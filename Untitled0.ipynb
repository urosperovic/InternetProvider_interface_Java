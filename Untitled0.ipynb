{
  "nbformat": 4,
  "nbformat_minor": 0,
  "metadata": {
    "colab": {
      "provenance": [],
      "authorship_tag": "ABX9TyPsbGoccvKk84gaSu19m6OB",
      "include_colab_link": true
    },
    "kernelspec": {
      "name": "python3",
      "display_name": "Python 3"
    },
    "language_info": {
      "name": "python"
    }
  },
  "cells": [
    {
      "cell_type": "markdown",
      "metadata": {
        "id": "view-in-github",
        "colab_type": "text"
      },
      "source": [
        "<a href=\"https://colab.research.google.com/github/urosperovic/InternetProvider_interface_Java/blob/main/Untitled0.ipynb\" target=\"_parent\"><img src=\"https://colab.research.google.com/assets/colab-badge.svg\" alt=\"Open In Colab\"/></a>"
      ]
    },
    {
      "cell_type": "code",
      "source": [
        "import numpy as np\n",
        "\n",
        "# Create a 2D array\n",
        "arr = np.array([[1, 2, 3], [4, 5, 6], [7, 8, 9]])\n",
        "element = arr[1, 2]\n",
        "print(element)"
      ],
      "metadata": {
        "colab": {
          "base_uri": "https://localhost:8080/"
        },
        "id": "AhLzgIb1yGzs",
        "outputId": "b5288fe6-8220-4909-dcc6-b8b718482f12"
      },
      "execution_count": 2,
      "outputs": [
        {
          "output_type": "stream",
          "name": "stdout",
          "text": [
            "6\n"
          ]
        }
      ]
    },
    {
      "cell_type": "code",
      "source": [
        "# Slicing the first two rows and the first two columns\n",
        "sliced_arr = arr[:2, :2]\n",
        "print(sliced_arr)\n"
      ],
      "metadata": {
        "colab": {
          "base_uri": "https://localhost:8080/"
        },
        "id": "PYQwImIlyRt5",
        "outputId": "2846cd00-3c09-4959-eec9-3709d29a0d69"
      },
      "execution_count": 3,
      "outputs": [
        {
          "output_type": "stream",
          "name": "stdout",
          "text": [
            "[[1 2]\n",
            " [4 5]]\n"
          ]
        }
      ]
    },
    {
      "cell_type": "code",
      "source": [
        "# Access the last element using negative indexing\n",
        "last_element = arr[-1, -1]\n",
        "print(last_element)"
      ],
      "metadata": {
        "colab": {
          "base_uri": "https://localhost:8080/"
        },
        "id": "89ml0_9GyaX7",
        "outputId": "2d4ea726-8b0c-40c0-b0e1-3a175f9b73f4"
      },
      "execution_count": 4,
      "outputs": [
        {
          "output_type": "stream",
          "name": "stdout",
          "text": [
            "9\n"
          ]
        }
      ]
    },
    {
      "cell_type": "code",
      "source": [
        "# Create a 1D array\n",
        "arr_1d = np.array([10, 20, 30, 40, 50])\n",
        "sliced_arr_1d = arr_1d[1:4]\n",
        "print(sliced_arr_1d)"
      ],
      "metadata": {
        "colab": {
          "base_uri": "https://localhost:8080/"
        },
        "id": "clju-ci3yjd3",
        "outputId": "96fedd27-6eb5-4fe5-e5b6-1f1115c93bad"
      },
      "execution_count": 5,
      "outputs": [
        {
          "output_type": "stream",
          "name": "stdout",
          "text": [
            "[20 30 40]\n"
          ]
        }
      ]
    },
    {
      "cell_type": "code",
      "source": [
        "# Slice every other element from the array\n",
        "step_arr = arr_1d[::2]\n",
        "print(step_arr)"
      ],
      "metadata": {
        "colab": {
          "base_uri": "https://localhost:8080/"
        },
        "id": "Ui-Gr_unyyAq",
        "outputId": "012359a6-6251-46cf-88a9-49783912c61b"
      },
      "execution_count": 6,
      "outputs": [
        {
          "output_type": "stream",
          "name": "stdout",
          "text": [
            "[10 30 50]\n"
          ]
        }
      ]
    },
    {
      "cell_type": "code",
      "source": [
        "# Select elements greater than 4\n",
        "condition = arr > 4\n",
        "selected_elements = arr[condition]\n",
        "print(selected_elements)"
      ],
      "metadata": {
        "colab": {
          "base_uri": "https://localhost:8080/"
        },
        "id": "7548MK6Hy3rn",
        "outputId": "900fed9d-23d7-4c6a-a65f-dc0b130a43f1"
      },
      "execution_count": 7,
      "outputs": [
        {
          "output_type": "stream",
          "name": "stdout",
          "text": [
            "[5 6 7 8 9]\n"
          ]
        }
      ]
    },
    {
      "cell_type": "code",
      "source": [
        "# Slice every other row and every other column\n",
        "step_2d = arr[::2, ::2]\n",
        "print(step_2d)"
      ],
      "metadata": {
        "colab": {
          "base_uri": "https://localhost:8080/"
        },
        "id": "Hub6MEd4zL4E",
        "outputId": "9ccc72fc-61c7-478f-e9fb-116b4b995910"
      },
      "execution_count": 8,
      "outputs": [
        {
          "output_type": "stream",
          "name": "stdout",
          "text": [
            "[[1 3]\n",
            " [7 9]]\n"
          ]
        }
      ]
    },
    {
      "cell_type": "code",
      "source": [
        "# Using a list of indices to select specific elements\n",
        "fancy_indices = arr[[0, 2], [1, 2]]\n",
        "print(fancy_indices)"
      ],
      "metadata": {
        "colab": {
          "base_uri": "https://localhost:8080/"
        },
        "id": "VdNBjmyEzSl9",
        "outputId": "99e20c3e-17e1-4bff-abb3-58bfed6b6bc0"
      },
      "execution_count": 9,
      "outputs": [
        {
          "output_type": "stream",
          "name": "stdout",
          "text": [
            "[2 9]\n"
          ]
        }
      ]
    },
    {
      "cell_type": "code",
      "source": [
        "# Assign a value to a specific slice\n",
        "arr[:, 1] = 100\n",
        "print(arr)\n"
      ],
      "metadata": {
        "colab": {
          "base_uri": "https://localhost:8080/"
        },
        "id": "GW7LskYczXUC",
        "outputId": "1f06f1b6-b642-48f1-8094-455d15079005"
      },
      "execution_count": 10,
      "outputs": [
        {
          "output_type": "stream",
          "name": "stdout",
          "text": [
            "[[  1 100   3]\n",
            " [  4 100   6]\n",
            " [  7 100   9]]\n"
          ]
        }
      ]
    },
    {
      "cell_type": "code",
      "source": [
        "# Select elements that are greater than 3 and less than 8\n",
        "combined_condition = (arr > 3) & (arr < 8)\n",
        "selected_combined = arr[combined_condition]\n",
        "print(selected_combined)"
      ],
      "metadata": {
        "colab": {
          "base_uri": "https://localhost:8080/"
        },
        "id": "cRDHDBElzfWk",
        "outputId": "75286e4b-38ea-4574-fa1d-52f36238e25f"
      },
      "execution_count": 11,
      "outputs": [
        {
          "output_type": "stream",
          "name": "stdout",
          "text": [
            "[4 6 7]\n"
          ]
        }
      ]
    }
  ]
}